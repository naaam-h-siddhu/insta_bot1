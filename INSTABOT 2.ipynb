{
 "cells": [
  {
   "cell_type": "code",
   "execution_count": 1,
   "id": "c70d7f2e",
   "metadata": {},
   "outputs": [],
   "source": [
    "from selenium import webdriver\n",
    "import selenium\n",
    "import time\n",
    "from selenium.webdriver.common.by import By\n",
    "from bs4 import BeautifulSoup\n",
    "driver = webdriver.Chrome()"
   ]
  },
  {
   "cell_type": "code",
   "execution_count": 2,
   "id": "b7180883",
   "metadata": {},
   "outputs": [],
   "source": [
    "driver.get('https://www.instagram.com/accounts/login/?__coig_restricted=1')\n",
    "time.sleep(3)"
   ]
  },
  {
   "cell_type": "code",
   "execution_count": 4,
   "id": "6375ffc5",
   "metadata": {},
   "outputs": [],
   "source": [
    "#username input\n",
    "user = driver.find_element(By.NAME, 'username')\n",
    "user.click()\n",
    "user.send_keys('_________')\n",
    "user.submit()\n",
    "time.sleep(3)"
   ]
  },
  {
   "cell_type": "code",
   "execution_count": 5,
   "id": "bb80f2dc",
   "metadata": {},
   "outputs": [],
   "source": [
    "#pass\n",
    "pass_word = driver.find_element(By.NAME, \"password\")\n",
    "pass_word.click()\n",
    "time.sleep(3)"
   ]
  },
  {
   "cell_type": "code",
   "execution_count": null,
   "outputs": [],
   "source": [],
   "metadata": {
    "collapsed": false
   },
   "id": "2de040521e6e8fb3"
  },
  {
   "cell_type": "code",
   "execution_count": 6,
   "id": "fb725f85",
   "metadata": {},
   "outputs": [],
   "source": [
    "pass_word.send_keys(\"p\")\n",
    "pass_word.click()"
   ]
  },
  {
   "cell_type": "code",
   "execution_count": 7,
   "id": "49526e77",
   "metadata": {},
   "outputs": [],
   "source": [
    "pass_word.send_keys('assword@1234')"
   ]
  },
  {
   "cell_type": "code",
   "execution_count": 8,
   "id": "bbf8ecf5",
   "metadata": {},
   "outputs": [],
   "source": [
    "pass_word.submit()\n",
    "time.sleep(6)"
   ]
  },
  {
   "cell_type": "code",
   "execution_count": null,
   "id": "c56a154b",
   "metadata": {},
   "outputs": [],
   "source": [
    "not_now = driver.find_element(By.XPATH,'//div[@class =\"_ac8f\"]/div')\n",
    "\n",
    "not_now.click()\n",
    "time.sleep(5)"
   ]
  },
  {
   "cell_type": "code",
   "execution_count": null,
   "id": "04cda90f",
   "metadata": {},
   "outputs": [],
   "source": [
    "notification_notnow = driver.find_elements(By.CLASS_NAME,'_a9_1')\n",
    "notification_notnow[0].click()\n",
    "# notification_notnow\n",
    "time.sleep(5)"
   ]
  },
  {
   "cell_type": "code",
   "execution_count": null,
   "id": "b1fcf1e3",
   "metadata": {},
   "outputs": [],
   "source": [
    "search_bar = driver.find_element(By.XPATH,'//a//div[text() = \"Search\"]/../../../..')\n",
    "search_bar.click()\n",
    "time.sleep(3)\n"
   ]
  },
  {
   "cell_type": "code",
   "execution_count": null,
   "id": "2855a2e7",
   "metadata": {},
   "outputs": [],
   "source": [
    "search_input = driver.find_element(By.XPATH,'//input[@placeholder = \"Search\"]')\n",
    "search_input.send_keys('food')\n",
    "time.sleep(5)"
   ]
  },
  {
   "cell_type": "code",
   "execution_count": null,
   "id": "b951b894",
   "metadata": {},
   "outputs": [],
   "source": [
    "\n",
    "ids = driver.find_elements(By.XPATH,'//div[@role = \"none\"]/a')[:10]\n",
    "ids_with_link = {}\n",
    "for i in ids:\n",
    "    link = i.get_attribute('href')\n",
    "    name = link.split('/')[3]\n",
    "    \n",
    "    \n",
    "    ids_with_link[name] = link\n",
    "ids_with_link"
   ]
  },
  {
   "cell_type": "code",
   "execution_count": null,
   "id": "86373b65",
   "metadata": {},
   "outputs": [],
   "source": [
    "def counter(link):\n",
    "    print(link)\n",
    "    driver.get(link)\n",
    "    time.sleep(7)\n",
    "    a = driver.find_elements(By.XPATH,'//span[@class = \"_ac2a\"]')\n",
    "    b = a[1].get_attribute('title')\n",
    "    b = b.replace(\",\",\"\")\n",
    "#     print(b)\n",
    "    count = int(b)\n",
    "    return count\n",
    "ids_with_follower = {}\n",
    "for i in ids_with_link:\n",
    "    link = ids_with_link.get(i)\n",
    "    count = counter(link)\n",
    "    ids_with_follower[link] = count\n",
    "ids_with_follower = sorted(ids_with_follower.items(), key=lambda x: x[1])\n",
    "ids_with_follower = ids_with_follower[5:10]"
   ]
  },
  {
   "cell_type": "code",
   "execution_count": null,
   "id": "9168a1b6",
   "metadata": {
    "scrolled": false
   },
   "outputs": [],
   "source": [
    "ids_with_follower\n",
    "def date_checker(link):\n",
    "    driver.get(link)\n",
    "    time.sleep(5)\n",
    "    date_element = driver.find_element(By.XPATH, \"//time[@class='_aaqe']\")\n",
    "    date  = date_element.get_attribute('datetime')[:10].split('-')\n",
    "    print(date)\n",
    "    month = int(date[1])\n",
    "    day = int(date[2])\n",
    "    if month == 5 and day > 15:\n",
    "        return True\n",
    "    return False\n",
    "counts = []\n",
    "names = []\n",
    "for i in range(5):\n",
    "    link = ids_with_follower[i][0]\n",
    "    print(link)\n",
    "    driver.get(link)\n",
    "    time.sleep(7)\n",
    "    x = driver.find_elements(By.XPATH,'//div[@class = \"_aagu\"]/..')\n",
    "    posts = []\n",
    "    for j in x:\n",
    "        print(j.get_attribute('href'))\n",
    "        posts.append(j.get_attribute('href'))\n",
    "    cnt = 0\n",
    "    for post in posts:\n",
    "        \n",
    "        print(cnt)\n",
    "        if date_checker(post) == True:\n",
    "            cnt += 1\n",
    "        else:\n",
    "            continue\n",
    "    names.append(link.split('/')[3])\n",
    "    counts.append(cnt)\n",
    "          \n",
    "    \n",
    "    "
   ]
  },
  {
   "cell_type": "code",
   "execution_count": null,
   "id": "eb02f4d5",
   "metadata": {},
   "outputs": [],
   "source": [
    "import matplotlib.pyplot as plt\n",
    "\n",
    "plt.scatter(names,counts)\n",
    "plt.plot(names,counts)\n",
    "plt.show()\n",
    "\n",
    "#         STEP 1 DONE"
   ]
  },
  {
   "cell_type": "markdown",
   "id": "82cd7a82",
   "metadata": {},
   "source": [
    "        STEP 2 ---> HASHTAGS GRAPH"
   ]
  },
  {
   "cell_type": "code",
   "execution_count": null,
   "id": "4663dbcf",
   "metadata": {},
   "outputs": [],
   "source": [
    "hashtags = {}\n",
    "for i in range(5):\n",
    "    link = ids_with_follower[i][0]\n",
    "#     print(link)\n",
    "    driver.get(link)\n",
    "    time.sleep(7)\n",
    "    x = driver.find_elements(By.XPATH,'//div[@class = \"_aagu\"]/..')\n",
    "    posts = []\n",
    "    for j in x:\n",
    "#         print(j.get_attribute('href'))\n",
    "        posts.append(j.get_attribute('href'))\n",
    "    posts = posts[:10]\n",
    "    for post in posts:\n",
    "        driver.get(post)\n",
    "        time.sleep(5)\n",
    "        hashes = driver.find_elements(By.XPATH,'//div[@class = \"_a9zs\"]//a')\n",
    "        for it in hashes:\n",
    "            he = it.get_attribute('href')\n",
    "            if \"tags\" in he:\n",
    "                tag = he.split('/')[5]\n",
    "                hashtags[tag] = hashtags.get(tag,0)+1\n",
    "sorted_hashtags  = dict(sorted(hashtags.items(), key=lambda x: x[1], reverse=True)[:5])            "
   ]
  },
  {
   "cell_type": "code",
   "execution_count": null,
   "id": "7d5d7bad",
   "metadata": {},
   "outputs": [],
   "source": [
    "hashtag = []\n",
    "cnt = []\n",
    "exp = [0.1,0,0,0,0]\n",
    "clrs = ['blue','red','green','yellow','pink']\n",
    "for i in sorted_hashtags:\n",
    "    hashtag.append(i)\n",
    "    cnt.append(sorted_hashtags.get(i))\n",
    "plt.title(\"hashtags pie chart\")\n",
    "plt.pie(cnt,colors=clrs, labels = hashtag,explode = exp,autopct =\"%.2f%%\",startangle = 100)\n",
    "plt.show()\n",
    "#.     STEP 2 DONE"
   ]
  },
  {
   "cell_type": "markdown",
   "id": "217f09f6",
   "metadata": {},
   "source": [
    "            STEP 3 - AVERAGE FOLLOWERS"
   ]
  },
  {
   "cell_type": "code",
   "execution_count": null,
   "id": "4c0b1402",
   "metadata": {
    "scrolled": false
   },
   "outputs": [],
   "source": [
    "avglikes = {}\n",
    "for i in range(5):\n",
    "    \n",
    "    link = ids_with_follower[i][0]\n",
    "#     print(link)\n",
    "    driver.get(link)\n",
    "    time.sleep(7)\n",
    "    x = driver.find_elements(By.XPATH,'//div[@class = \"_aagu\"]/..')\n",
    "    posts = []\n",
    "    for j in x:\n",
    "#         print(j.get_attribute('href'))\n",
    "        posts.append(j.get_attribute('href'))\n",
    "    print(posts)\n",
    "    likes = 0\n",
    "    times = 0\n",
    "    for post in posts:\n",
    "        driver.get(post)\n",
    "        time.sleep(6)\n",
    "        print(post)\n",
    "        like_list = driver.find_elements(By.XPATH,'//section[@class = \"x12nagc\"]//span/span')\n",
    "        if len(like_list) == 0:\n",
    "            continue\n",
    "        like = like_list[0].text\n",
    "        like = like.replace(',','')\n",
    "        like = int(like)\n",
    "        print(like)\n",
    "        likes += like\n",
    "        times += 1\n",
    "        if times == 10:\n",
    "            break\n",
    "    print(\"likes\", likes)\n",
    "    \n",
    "    avg = likes/10\n",
    "    print(avg)\n",
    "    avglikes[link.split('/')[3]] = avg\n",
    "avglikes"
   ]
  },
  {
   "cell_type": "code",
   "execution_count": null,
   "id": "2426d0b0",
   "metadata": {},
   "outputs": [],
   "source": [
    "chart = []\n",
    "followers = []\n",
    "avglike = []\n",
    "for i in avglikes:\n",
    "    avglike.append(avglikes.get(i))\n",
    "for i in range(5):\n",
    "    followers.append(ids_with_follower[i][1])\n",
    "for i in range(5):\n",
    "    a = followers[i]//avglike[i]\n",
    "    chart.append(a)\n",
    "plt.bar"
   ]
  },
  {
   "cell_type": "code",
   "execution_count": null,
   "id": "596f3626",
   "metadata": {},
   "outputs": [],
   "source": []
  }
 ],
 "metadata": {
  "kernelspec": {
   "display_name": "Python 3 (ipykernel)",
   "language": "python",
   "name": "python3"
  },
  "language_info": {
   "codemirror_mode": {
    "name": "ipython",
    "version": 3
   },
   "file_extension": ".py",
   "mimetype": "text/x-python",
   "name": "python",
   "nbconvert_exporter": "python",
   "pygments_lexer": "ipython3",
   "version": "3.9.13"
  }
 },
 "nbformat": 4,
 "nbformat_minor": 5
}
